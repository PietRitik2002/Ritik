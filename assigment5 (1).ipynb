{
 "cells": [
  {
   "cell_type": "code",
   "execution_count": 1,
   "id": "a5516802-51c6-4f3a-9416-e9eed4eba4bf",
   "metadata": {},
   "outputs": [],
   "source": [
    "#functions\n",
    "#Q1\n",
    "def test():\n",
    "    print(\"hii\")"
   ]
  },
  {
   "cell_type": "code",
   "execution_count": 2,
   "id": "013d4eef-8c29-4ce5-b837-96838adefc58",
   "metadata": {},
   "outputs": [
    {
     "name": "stdout",
     "output_type": "stream",
     "text": [
      "hii\n"
     ]
    }
   ],
   "source": [
    "test()"
   ]
  },
  {
   "cell_type": "code",
   "execution_count": 3,
   "id": "c2a1f66d-c8c6-43a0-a905-792c8a7e7354",
   "metadata": {},
   "outputs": [
    {
     "name": "stdout",
     "output_type": "stream",
     "text": [
      "hii\n"
     ]
    },
    {
     "data": {
      "text/plain": [
       "NoneType"
      ]
     },
     "execution_count": 3,
     "metadata": {},
     "output_type": "execute_result"
    }
   ],
   "source": [
    "type(test())"
   ]
  },
  {
   "cell_type": "code",
   "execution_count": 14,
   "id": "a734a3dd-4811-461f-bf09-6ca73c6ec747",
   "metadata": {},
   "outputs": [],
   "source": [
    "#Q2\n",
    "def test1():\n",
    "    return (\"hii\")"
   ]
  },
  {
   "cell_type": "code",
   "execution_count": 15,
   "id": "2345e106-e0ec-45a8-b246-6aaf85bda690",
   "metadata": {},
   "outputs": [
    {
     "data": {
      "text/plain": [
       "'hii'"
      ]
     },
     "execution_count": 15,
     "metadata": {},
     "output_type": "execute_result"
    }
   ],
   "source": [
    "test1()"
   ]
  },
  {
   "cell_type": "code",
   "execution_count": 16,
   "id": "b9718c5f-0f0f-4988-96d9-f4b4596c0149",
   "metadata": {},
   "outputs": [
    {
     "data": {
      "text/plain": [
       "str"
      ]
     },
     "execution_count": 16,
     "metadata": {},
     "output_type": "execute_result"
    }
   ],
   "source": [
    "type(test1())"
   ]
  },
  {
   "cell_type": "code",
   "execution_count": 18,
   "id": "722af97f-2001-4578-860c-7550e7db3c6e",
   "metadata": {},
   "outputs": [],
   "source": [
    "#Q3\n",
    "test2():\n",
    "    a=2+5\n",
    "    b=6*5\n",
    "    return a,b"
   ]
  },
  {
   "cell_type": "code",
   "execution_count": 19,
   "id": "046f5cec-bcdb-4ebd-b1d6-9609963fc46e",
   "metadata": {},
   "outputs": [
    {
     "data": {
      "text/plain": [
       "(7, 30)"
      ]
     },
     "execution_count": 19,
     "metadata": {},
     "output_type": "execute_result"
    }
   ],
   "source": [
    "test2()"
   ]
  },
  {
   "cell_type": "code",
   "execution_count": 24,
   "id": "b0a82126-dfc1-4cc9-939e-8702b414df96",
   "metadata": {},
   "outputs": [],
   "source": [
    "j,k=test2()"
   ]
  },
  {
   "cell_type": "code",
   "execution_count": 25,
   "id": "b3d38470-472d-4825-8533-d8f5437fbd13",
   "metadata": {},
   "outputs": [
    {
     "data": {
      "text/plain": [
       "7"
      ]
     },
     "execution_count": 25,
     "metadata": {},
     "output_type": "execute_result"
    }
   ],
   "source": [
    "j"
   ]
  },
  {
   "cell_type": "code",
   "execution_count": 26,
   "id": "3904e651-6777-42a6-bc83-b8b7be9a7f16",
   "metadata": {},
   "outputs": [
    {
     "data": {
      "text/plain": [
       "30"
      ]
     },
     "execution_count": 26,
     "metadata": {},
     "output_type": "execute_result"
    }
   ],
   "source": [
    "k"
   ]
  },
  {
   "cell_type": "code",
   "execution_count": 27,
   "id": "8ce62d11-7476-4e10-bf16-f3bfea3370bf",
   "metadata": {},
   "outputs": [],
   "source": [
    "#Q4\n",
    "def test(a,b):\n",
    "    return a+b"
   ]
  },
  {
   "cell_type": "code",
   "execution_count": 28,
   "id": "79bbd655-ee31-4bbd-92fd-2155fb4e119e",
   "metadata": {},
   "outputs": [
    {
     "data": {
      "text/plain": [
       "14"
      ]
     },
     "execution_count": 28,
     "metadata": {},
     "output_type": "execute_result"
    }
   ],
   "source": [
    "test(6,8)"
   ]
  },
  {
   "cell_type": "code",
   "execution_count": 29,
   "id": "40ad5327-24c6-483b-bb6f-a02de94a20b6",
   "metadata": {},
   "outputs": [],
   "source": [
    "#Q5\n",
    "def test3(a,b,c,d):\n",
    "    return a,b,c,d"
   ]
  },
  {
   "cell_type": "code",
   "execution_count": 30,
   "id": "99ef2181-5763-4528-a224-6c48e9360e89",
   "metadata": {},
   "outputs": [
    {
     "data": {
      "text/plain": [
       "(1, 2, 3, 4)"
      ]
     },
     "execution_count": 30,
     "metadata": {},
     "output_type": "execute_result"
    }
   ],
   "source": [
    "test3(1,2,3,4)"
   ]
  },
  {
   "cell_type": "code",
   "execution_count": null,
   "id": "819ee2f0-0c4d-4164-bb9d-a23fe0ddfce2",
   "metadata": {},
   "outputs": [],
   "source": [
    "#Q6\n",
    "def test4(a,b,c,d):\n",
    "    return a,b,c,d"
   ]
  },
  {
   "cell_type": "code",
   "execution_count": 31,
   "id": "e35611cf-fd20-4d67-8af3-361de9684085",
   "metadata": {},
   "outputs": [
    {
     "ename": "TypeError",
     "evalue": "test3() takes 4 positional arguments but 6 were given",
     "output_type": "error",
     "traceback": [
      "\u001b[1;31m---------------------------------------------------------------------------\u001b[0m",
      "\u001b[1;31mTypeError\u001b[0m                                 Traceback (most recent call last)",
      "Cell \u001b[1;32mIn[31], line 1\u001b[0m\n\u001b[1;32m----> 1\u001b[0m \u001b[43mtest3\u001b[49m\u001b[43m(\u001b[49m\u001b[38;5;241;43m1\u001b[39;49m\u001b[43m,\u001b[49m\u001b[38;5;241;43m2\u001b[39;49m\u001b[43m,\u001b[49m\u001b[38;5;241;43m3\u001b[39;49m\u001b[43m,\u001b[49m\u001b[38;5;241;43m4\u001b[39;49m\u001b[43m,\u001b[49m\u001b[38;5;241;43m7\u001b[39;49m\u001b[43m,\u001b[49m\u001b[38;5;241;43m8\u001b[39;49m\u001b[43m)\u001b[49m\n",
      "\u001b[1;31mTypeError\u001b[0m: test3() takes 4 positional arguments but 6 were given"
     ]
    }
   ],
   "source": [
    "test3(1,2,3,4,7,8)"
   ]
  },
  {
   "cell_type": "code",
   "execution_count": 32,
   "id": "1f78cc23-356d-4010-8690-ad54922abcb7",
   "metadata": {},
   "outputs": [],
   "source": [
    "#Q7\n",
    "def test5(a,b,c,d,*args):\n",
    "    return args"
   ]
  },
  {
   "cell_type": "code",
   "execution_count": 34,
   "id": "b302a0ef-96e6-4d6c-b56d-196f97c2bb18",
   "metadata": {},
   "outputs": [
    {
     "data": {
      "text/plain": [
       "()"
      ]
     },
     "execution_count": 34,
     "metadata": {},
     "output_type": "execute_result"
    }
   ],
   "source": [
    "test5(1,2,4,5)"
   ]
  },
  {
   "cell_type": "code",
   "execution_count": 38,
   "id": "7a4b4b6b-63a1-45c8-acde-71b05a41c249",
   "metadata": {},
   "outputs": [],
   "source": [
    "#Q8\n",
    "def test6(**kwargs):\n",
    "    return kwargs"
   ]
  },
  {
   "cell_type": "code",
   "execution_count": 40,
   "id": "eb41b055-9dda-40ee-9b27-75c4cead3c62",
   "metadata": {},
   "outputs": [
    {
     "data": {
      "text/plain": [
       "(5, 4, 5, 9)"
      ]
     },
     "execution_count": 40,
     "metadata": {},
     "output_type": "execute_result"
    }
   ],
   "source": [
    "test6(a=5,b=4,c=5,d=9)"
   ]
  },
  {
   "cell_type": "code",
   "execution_count": 41,
   "id": "fae7eb8f-48cf-4bae-a386-7402ba5e5986",
   "metadata": {},
   "outputs": [],
   "source": [
    "#Q9\n",
    "def test7(a=10,b=8,c=14,d=13,*args):\n",
    "    return args,a,b,c"
   ]
  },
  {
   "cell_type": "code",
   "execution_count": 42,
   "id": "f9c64374-dc5d-448f-817c-cd9b308153ef",
   "metadata": {},
   "outputs": [
    {
     "data": {
      "text/plain": [
       "((), 1, 2, 3)"
      ]
     },
     "execution_count": 42,
     "metadata": {},
     "output_type": "execute_result"
    }
   ],
   "source": [
    "test7(1,2,3)"
   ]
  },
  {
   "cell_type": "code",
   "execution_count": 44,
   "id": "c5745d1c-cd2a-4ceb-adca-ad96abc0a214",
   "metadata": {},
   "outputs": [],
   "source": [
    "#Q10\n",
    "def test8(a=10,b=8,c=14,d=13,*args):\n",
    "    return a,b,c,args"
   ]
  },
  {
   "cell_type": "code",
   "execution_count": 45,
   "id": "deb50c9e-bf9a-4e0e-9651-aa4e7254d8de",
   "metadata": {},
   "outputs": [
    {
     "data": {
      "text/plain": [
       "(10, 8, 14, ())"
      ]
     },
     "execution_count": 45,
     "metadata": {},
     "output_type": "execute_result"
    }
   ],
   "source": [
    "test8()"
   ]
  },
  {
   "cell_type": "code",
   "execution_count": 60,
   "id": "6d4d1264-fa74-46ff-bf9f-68fb6f39ba14",
   "metadata": {},
   "outputs": [],
   "source": [
    "#Q12\n",
    "def test9(*args):\n",
    "    l=[]\n",
    "    for i in args:\n",
    "        l.append(i)\n",
    "    return(l)"
   ]
  },
  {
   "cell_type": "code",
   "execution_count": 61,
   "id": "63a5404d-d1d8-45ae-98e0-e693a5c0c3ba",
   "metadata": {},
   "outputs": [
    {
     "data": {
      "text/plain": [
       "[10, 6, 8, 9, 7]"
      ]
     },
     "execution_count": 61,
     "metadata": {},
     "output_type": "execute_result"
    }
   ],
   "source": [
    "test9(10,6,8,9,7)"
   ]
  },
  {
   "cell_type": "code",
   "execution_count": 68,
   "id": "fb667fe3-a1a2-4e97-ac91-18d6c766385e",
   "metadata": {},
   "outputs": [],
   "source": [
    "#Q13\n",
    "def test10(*args):\n",
    "    l=[]\n",
    "    for i in args:\n",
    "        if type(i)==int:\n",
    "         l.append(i)\n",
    "    return(l)"
   ]
  },
  {
   "cell_type": "code",
   "execution_count": 69,
   "id": "fa3489ca-8a57-4d0c-b84b-5d1a92c42a26",
   "metadata": {},
   "outputs": [
    {
     "data": {
      "text/plain": [
       "[10, 6, 8, 9, 7]"
      ]
     },
     "execution_count": 69,
     "metadata": {},
     "output_type": "execute_result"
    }
   ],
   "source": [
    "test10(10,6,8,9,7,\"ritik\")"
   ]
  }
 ],
 "metadata": {
  "kernelspec": {
   "display_name": "Python 3 (ipykernel)",
   "language": "python",
   "name": "python3"
  },
  "language_info": {
   "codemirror_mode": {
    "name": "ipython",
    "version": 3
   },
   "file_extension": ".py",
   "mimetype": "text/x-python",
   "name": "python",
   "nbconvert_exporter": "python",
   "pygments_lexer": "ipython3",
   "version": "3.11.4"
  }
 },
 "nbformat": 4,
 "nbformat_minor": 5
}
